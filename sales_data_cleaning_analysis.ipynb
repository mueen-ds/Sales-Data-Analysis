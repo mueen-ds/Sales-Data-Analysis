{
 "cells": [
  {
   "cell_type": "markdown",
   "id": "856a56f2",
   "metadata": {},
   "source": [
    "# 🧼 Sales Data Cleaning & Analysis\n",
    "This project involves cleaning messy sales data using Pandas.  \n",
    "The steps include:\n",
    "- Fixing column names\n",
    "- Handling missing values\n",
    "- Converting data types\n",
    "- Calculating total sales\n",
    "- Simple product-wise analysis"
   ]
  },
  {
   "cell_type": "markdown",
   "id": "2c2f374a",
   "metadata": {},
   "source": [
    "## Step 1: 📥 Import Libraries & Load Data\n",
    "\n",
    "We begin by importing the required libraries and loading the CSV file into a Pandas DataFrame."
   ]
  },
  {
   "cell_type": "code",
   "execution_count": 34,
   "id": "9a51a94b",
   "metadata": {},
   "outputs": [
    {
     "data": {
      "application/vnd.microsoft.datawrangler.viewer.v0+json": {
       "columns": [
        {
         "name": "index",
         "rawType": "int64",
         "type": "integer"
        },
        {
         "name": "Order ID",
         "rawType": "float64",
         "type": "float"
        },
        {
         "name": "Product",
         "rawType": "object",
         "type": "unknown"
        },
        {
         "name": "Quantity Ordered",
         "rawType": "float64",
         "type": "float"
        },
        {
         "name": " Price Each ",
         "rawType": "float64",
         "type": "float"
        },
        {
         "name": " City",
         "rawType": "object",
         "type": "string"
        }
       ],
       "ref": "80a13bff-480f-4bfa-b076-f4d2b3605825",
       "rows": [
        [
         "0",
         "101.0",
         "USB-C Cable",
         "2.0",
         "10.99",
         "Lahore"
        ],
        [
         "1",
         "102.0",
         null,
         "1.0",
         "5.49",
         "Karachi"
        ],
        [
         "2",
         "103.0",
         "Mouse",
         null,
         "15.99",
         "lahore"
        ],
        [
         "3",
         null,
         "Keyboard",
         "1.0",
         null,
         "ISLAMABAD"
        ],
        [
         "4",
         "105.0",
         "Monitor",
         "2.0",
         "129.99",
         " karachi"
        ]
       ],
       "shape": {
        "columns": 5,
        "rows": 5
       }
      },
      "text/html": [
       "<div>\n",
       "<style scoped>\n",
       "    .dataframe tbody tr th:only-of-type {\n",
       "        vertical-align: middle;\n",
       "    }\n",
       "\n",
       "    .dataframe tbody tr th {\n",
       "        vertical-align: top;\n",
       "    }\n",
       "\n",
       "    .dataframe thead th {\n",
       "        text-align: right;\n",
       "    }\n",
       "</style>\n",
       "<table border=\"1\" class=\"dataframe\">\n",
       "  <thead>\n",
       "    <tr style=\"text-align: right;\">\n",
       "      <th></th>\n",
       "      <th>Order ID</th>\n",
       "      <th>Product</th>\n",
       "      <th>Quantity Ordered</th>\n",
       "      <th>Price Each</th>\n",
       "      <th>City</th>\n",
       "    </tr>\n",
       "  </thead>\n",
       "  <tbody>\n",
       "    <tr>\n",
       "      <th>0</th>\n",
       "      <td>101.0</td>\n",
       "      <td>USB-C Cable</td>\n",
       "      <td>2.0</td>\n",
       "      <td>10.99</td>\n",
       "      <td>Lahore</td>\n",
       "    </tr>\n",
       "    <tr>\n",
       "      <th>1</th>\n",
       "      <td>102.0</td>\n",
       "      <td>NaN</td>\n",
       "      <td>1.0</td>\n",
       "      <td>5.49</td>\n",
       "      <td>Karachi</td>\n",
       "    </tr>\n",
       "    <tr>\n",
       "      <th>2</th>\n",
       "      <td>103.0</td>\n",
       "      <td>Mouse</td>\n",
       "      <td>NaN</td>\n",
       "      <td>15.99</td>\n",
       "      <td>lahore</td>\n",
       "    </tr>\n",
       "    <tr>\n",
       "      <th>3</th>\n",
       "      <td>NaN</td>\n",
       "      <td>Keyboard</td>\n",
       "      <td>1.0</td>\n",
       "      <td>NaN</td>\n",
       "      <td>ISLAMABAD</td>\n",
       "    </tr>\n",
       "    <tr>\n",
       "      <th>4</th>\n",
       "      <td>105.0</td>\n",
       "      <td>Monitor</td>\n",
       "      <td>2.0</td>\n",
       "      <td>129.99</td>\n",
       "      <td>karachi</td>\n",
       "    </tr>\n",
       "  </tbody>\n",
       "</table>\n",
       "</div>"
      ],
      "text/plain": [
       "   Order ID      Product  Quantity Ordered   Price Each        City\n",
       "0     101.0  USB-C Cable               2.0         10.99     Lahore\n",
       "1     102.0          NaN               1.0          5.49    Karachi\n",
       "2     103.0        Mouse               NaN         15.99     lahore\n",
       "3       NaN     Keyboard               1.0           NaN  ISLAMABAD\n",
       "4     105.0      Monitor               2.0        129.99    karachi"
      ]
     },
     "execution_count": 34,
     "metadata": {},
     "output_type": "execute_result"
    }
   ],
   "source": [
    "import pandas as pd\n",
    "\n",
    "df = pd.read_csv(\"messy_sales_data.csv\")\n",
    "df.head()"
   ]
  },
  {
   "cell_type": "markdown",
   "id": "64969884",
   "metadata": {},
   "source": [
    "## Step 2: 🔍 Initial Data Exploration\n",
    "\n",
    "Let’s take a look at the data shape, types, nulls, and basic statistics."
   ]
  },
  {
   "cell_type": "code",
   "execution_count": 35,
   "id": "48e3046c",
   "metadata": {},
   "outputs": [
    {
     "name": "stdout",
     "output_type": "stream",
     "text": [
      "<class 'pandas.core.frame.DataFrame'>\n",
      "RangeIndex: 15 entries, 0 to 14\n",
      "Data columns (total 5 columns):\n",
      " #   Column            Non-Null Count  Dtype  \n",
      "---  ------            --------------  -----  \n",
      " 0   Order ID          14 non-null     float64\n",
      " 1   Product           12 non-null     object \n",
      " 2   Quantity Ordered  12 non-null     float64\n",
      " 3    Price Each       14 non-null     float64\n",
      " 4    City             15 non-null     object \n",
      "dtypes: float64(3), object(2)\n",
      "memory usage: 732.0+ bytes\n"
     ]
    },
    {
     "data": {
      "application/vnd.microsoft.datawrangler.viewer.v0+json": {
       "columns": [
        {
         "name": "index",
         "rawType": "object",
         "type": "string"
        },
        {
         "name": "0",
         "rawType": "int64",
         "type": "integer"
        }
       ],
       "ref": "476a4780-8841-4d65-86ef-854de7731970",
       "rows": [
        [
         "Order ID",
         "1"
        ],
        [
         "Product",
         "3"
        ],
        [
         "Quantity Ordered",
         "3"
        ],
        [
         " Price Each ",
         "1"
        ],
        [
         " City",
         "0"
        ]
       ],
       "shape": {
        "columns": 1,
        "rows": 5
       }
      },
      "text/plain": [
       "Order ID            1\n",
       "Product             3\n",
       "Quantity Ordered    3\n",
       " Price Each         1\n",
       " City               0\n",
       "dtype: int64"
      ]
     },
     "execution_count": 35,
     "metadata": {},
     "output_type": "execute_result"
    }
   ],
   "source": [
    "df.info()\n",
    "df.describe()\n",
    "df.isnull().sum()"
   ]
  },
  {
   "cell_type": "markdown",
   "id": "987c5f1d",
   "metadata": {},
   "source": [
    "## Step 3: 🧽 Clean Column Names\n",
    "\n",
    "We will standardize column names by removing spaces, making lowercase, and replacing spaces with underscores."
   ]
  },
  {
   "cell_type": "code",
   "execution_count": 37,
   "id": "a1d65177",
   "metadata": {},
   "outputs": [
    {
     "data": {
      "application/vnd.microsoft.datawrangler.viewer.v0+json": {
       "columns": [
        {
         "name": "index",
         "rawType": "int64",
         "type": "integer"
        },
        {
         "name": "order_id",
         "rawType": "float64",
         "type": "float"
        },
        {
         "name": "product",
         "rawType": "object",
         "type": "unknown"
        },
        {
         "name": "quantity_ordered",
         "rawType": "float64",
         "type": "float"
        },
        {
         "name": "price_each",
         "rawType": "float64",
         "type": "float"
        },
        {
         "name": "city",
         "rawType": "object",
         "type": "string"
        }
       ],
       "ref": "039f7405-46b6-40b3-a27c-a7350c4b0fdc",
       "rows": [
        [
         "0",
         "101.0",
         "USB-C Cable",
         "2.0",
         "10.99",
         "Lahore"
        ],
        [
         "1",
         "102.0",
         null,
         "1.0",
         "5.49",
         "Karachi"
        ],
        [
         "2",
         "103.0",
         "Mouse",
         null,
         "15.99",
         "lahore"
        ],
        [
         "3",
         null,
         "Keyboard",
         "1.0",
         null,
         "ISLAMABAD"
        ],
        [
         "4",
         "105.0",
         "Monitor",
         "2.0",
         "129.99",
         " karachi"
        ]
       ],
       "shape": {
        "columns": 5,
        "rows": 5
       }
      },
      "text/html": [
       "<div>\n",
       "<style scoped>\n",
       "    .dataframe tbody tr th:only-of-type {\n",
       "        vertical-align: middle;\n",
       "    }\n",
       "\n",
       "    .dataframe tbody tr th {\n",
       "        vertical-align: top;\n",
       "    }\n",
       "\n",
       "    .dataframe thead th {\n",
       "        text-align: right;\n",
       "    }\n",
       "</style>\n",
       "<table border=\"1\" class=\"dataframe\">\n",
       "  <thead>\n",
       "    <tr style=\"text-align: right;\">\n",
       "      <th></th>\n",
       "      <th>order_id</th>\n",
       "      <th>product</th>\n",
       "      <th>quantity_ordered</th>\n",
       "      <th>price_each</th>\n",
       "      <th>city</th>\n",
       "    </tr>\n",
       "  </thead>\n",
       "  <tbody>\n",
       "    <tr>\n",
       "      <th>0</th>\n",
       "      <td>101.0</td>\n",
       "      <td>USB-C Cable</td>\n",
       "      <td>2.0</td>\n",
       "      <td>10.99</td>\n",
       "      <td>Lahore</td>\n",
       "    </tr>\n",
       "    <tr>\n",
       "      <th>1</th>\n",
       "      <td>102.0</td>\n",
       "      <td>NaN</td>\n",
       "      <td>1.0</td>\n",
       "      <td>5.49</td>\n",
       "      <td>Karachi</td>\n",
       "    </tr>\n",
       "    <tr>\n",
       "      <th>2</th>\n",
       "      <td>103.0</td>\n",
       "      <td>Mouse</td>\n",
       "      <td>NaN</td>\n",
       "      <td>15.99</td>\n",
       "      <td>lahore</td>\n",
       "    </tr>\n",
       "    <tr>\n",
       "      <th>3</th>\n",
       "      <td>NaN</td>\n",
       "      <td>Keyboard</td>\n",
       "      <td>1.0</td>\n",
       "      <td>NaN</td>\n",
       "      <td>ISLAMABAD</td>\n",
       "    </tr>\n",
       "    <tr>\n",
       "      <th>4</th>\n",
       "      <td>105.0</td>\n",
       "      <td>Monitor</td>\n",
       "      <td>2.0</td>\n",
       "      <td>129.99</td>\n",
       "      <td>karachi</td>\n",
       "    </tr>\n",
       "  </tbody>\n",
       "</table>\n",
       "</div>"
      ],
      "text/plain": [
       "   order_id      product  quantity_ordered  price_each       city\n",
       "0     101.0  USB-C Cable               2.0       10.99     Lahore\n",
       "1     102.0          NaN               1.0        5.49    Karachi\n",
       "2     103.0        Mouse               NaN       15.99     lahore\n",
       "3       NaN     Keyboard               1.0         NaN  ISLAMABAD\n",
       "4     105.0      Monitor               2.0      129.99    karachi"
      ]
     },
     "execution_count": 37,
     "metadata": {},
     "output_type": "execute_result"
    }
   ],
   "source": [
    "df.columns = df.columns.str.strip().str.lower().str.replace(\" \", \"_\")\n",
    "df.head()"
   ]
  },
  {
   "cell_type": "markdown",
   "id": "97f895fb",
   "metadata": {},
   "source": [
    "## Step 4: ✂️ Clean Text Columns\n",
    "\n",
    "Trimming white spaces from product and city names to ensure consistency."
   ]
  },
  {
   "cell_type": "code",
   "execution_count": 8,
   "id": "f26c644a",
   "metadata": {},
   "outputs": [
    {
     "data": {
      "application/vnd.microsoft.datawrangler.viewer.v0+json": {
       "columns": [
        {
         "name": "index",
         "rawType": "int64",
         "type": "integer"
        },
        {
         "name": "order_id",
         "rawType": "float64",
         "type": "float"
        },
        {
         "name": "product",
         "rawType": "object",
         "type": "unknown"
        },
        {
         "name": "quantity_ordered",
         "rawType": "float64",
         "type": "float"
        },
        {
         "name": "price_each",
         "rawType": "float64",
         "type": "float"
        },
        {
         "name": "city",
         "rawType": "object",
         "type": "string"
        }
       ],
       "ref": "d253ffc8-d300-4777-b4eb-e5524252bf50",
       "rows": [
        [
         "0",
         "101.0",
         "USB-C Cable",
         "2.0",
         "10.99",
         "Lahore"
        ],
        [
         "1",
         "102.0",
         null,
         "1.0",
         "5.49",
         "Karachi"
        ],
        [
         "2",
         "103.0",
         "Mouse",
         null,
         "15.99",
         "Lahore"
        ],
        [
         "3",
         null,
         "Keyboard",
         "1.0",
         null,
         "Islamabad"
        ],
        [
         "4",
         "105.0",
         "Monitor",
         "2.0",
         "129.99",
         "Karachi"
        ]
       ],
       "shape": {
        "columns": 5,
        "rows": 5
       }
      },
      "text/html": [
       "<div>\n",
       "<style scoped>\n",
       "    .dataframe tbody tr th:only-of-type {\n",
       "        vertical-align: middle;\n",
       "    }\n",
       "\n",
       "    .dataframe tbody tr th {\n",
       "        vertical-align: top;\n",
       "    }\n",
       "\n",
       "    .dataframe thead th {\n",
       "        text-align: right;\n",
       "    }\n",
       "</style>\n",
       "<table border=\"1\" class=\"dataframe\">\n",
       "  <thead>\n",
       "    <tr style=\"text-align: right;\">\n",
       "      <th></th>\n",
       "      <th>order_id</th>\n",
       "      <th>product</th>\n",
       "      <th>quantity_ordered</th>\n",
       "      <th>price_each</th>\n",
       "      <th>city</th>\n",
       "    </tr>\n",
       "  </thead>\n",
       "  <tbody>\n",
       "    <tr>\n",
       "      <th>0</th>\n",
       "      <td>101.0</td>\n",
       "      <td>USB-C Cable</td>\n",
       "      <td>2.0</td>\n",
       "      <td>10.99</td>\n",
       "      <td>Lahore</td>\n",
       "    </tr>\n",
       "    <tr>\n",
       "      <th>1</th>\n",
       "      <td>102.0</td>\n",
       "      <td>NaN</td>\n",
       "      <td>1.0</td>\n",
       "      <td>5.49</td>\n",
       "      <td>Karachi</td>\n",
       "    </tr>\n",
       "    <tr>\n",
       "      <th>2</th>\n",
       "      <td>103.0</td>\n",
       "      <td>Mouse</td>\n",
       "      <td>NaN</td>\n",
       "      <td>15.99</td>\n",
       "      <td>Lahore</td>\n",
       "    </tr>\n",
       "    <tr>\n",
       "      <th>3</th>\n",
       "      <td>NaN</td>\n",
       "      <td>Keyboard</td>\n",
       "      <td>1.0</td>\n",
       "      <td>NaN</td>\n",
       "      <td>Islamabad</td>\n",
       "    </tr>\n",
       "    <tr>\n",
       "      <th>4</th>\n",
       "      <td>105.0</td>\n",
       "      <td>Monitor</td>\n",
       "      <td>2.0</td>\n",
       "      <td>129.99</td>\n",
       "      <td>Karachi</td>\n",
       "    </tr>\n",
       "  </tbody>\n",
       "</table>\n",
       "</div>"
      ],
      "text/plain": [
       "   order_id      product  quantity_ordered  price_each       city\n",
       "0     101.0  USB-C Cable               2.0       10.99     Lahore\n",
       "1     102.0          NaN               1.0        5.49    Karachi\n",
       "2     103.0        Mouse               NaN       15.99     Lahore\n",
       "3       NaN     Keyboard               1.0         NaN  Islamabad\n",
       "4     105.0      Monitor               2.0      129.99    Karachi"
      ]
     },
     "execution_count": 8,
     "metadata": {},
     "output_type": "execute_result"
    }
   ],
   "source": [
    "df['product'] = df['product'].str.strip()\n",
    "df['city'] = df['city'].str.strip().str.title()\n",
    "df.head()"
   ]
  },
  {
   "cell_type": "markdown",
   "id": "b6df1a85",
   "metadata": {},
   "source": [
    "## Step 5: 🔁 Convert Data Types\n",
    "\n",
    "Convert `quantity_ordered` and `price_each` columns from string to numeric types to allow calculations."
   ]
  },
  {
   "cell_type": "code",
   "execution_count": 10,
   "id": "e1be298d",
   "metadata": {},
   "outputs": [],
   "source": [
    "df['quantity_ordered'] = pd.to_numeric(df['quantity_ordered'], errors='coerce')\n",
    "df['price_each'] = pd.to_numeric(df['price_each'], errors='coerce')"
   ]
  },
  {
   "cell_type": "markdown",
   "id": "b160e3f2",
   "metadata": {},
   "source": [
    "## Step 6: 🚫 Handle Missing Values\n",
    "\n",
    "Remove rows that contain missing or invalid values in key columns."
   ]
  },
  {
   "cell_type": "code",
   "execution_count": 11,
   "id": "d4bba299",
   "metadata": {},
   "outputs": [
    {
     "data": {
      "text/plain": [
       "(9, 5)"
      ]
     },
     "execution_count": 11,
     "metadata": {},
     "output_type": "execute_result"
    }
   ],
   "source": [
    "df = df.dropna()\n",
    "df.shape"
   ]
  },
  {
   "cell_type": "markdown",
   "id": "58fd0cea",
   "metadata": {},
   "source": [
    "## Step 7: 💰 Create Total Price Column\n",
    "\n",
    "Add a new column `total_price` by multiplying quantity and price.\n",
    "This helps in analyzing total revenue per transaction."
   ]
  },
  {
   "cell_type": "code",
   "execution_count": 12,
   "id": "044031c8",
   "metadata": {},
   "outputs": [
    {
     "data": {
      "application/vnd.microsoft.datawrangler.viewer.v0+json": {
       "columns": [
        {
         "name": "index",
         "rawType": "int64",
         "type": "integer"
        },
        {
         "name": "order_id",
         "rawType": "float64",
         "type": "float"
        },
        {
         "name": "product",
         "rawType": "object",
         "type": "string"
        },
        {
         "name": "quantity_ordered",
         "rawType": "float64",
         "type": "float"
        },
        {
         "name": "price_each",
         "rawType": "float64",
         "type": "float"
        },
        {
         "name": "city",
         "rawType": "object",
         "type": "string"
        },
        {
         "name": "total_price",
         "rawType": "float64",
         "type": "float"
        }
       ],
       "ref": "018f0fe6-9543-4268-8c43-cba98a90c62a",
       "rows": [
        [
         "0",
         "101.0",
         "USB-C Cable",
         "2.0",
         "10.99",
         "Lahore",
         "21.98"
        ],
        [
         "4",
         "105.0",
         "Monitor",
         "2.0",
         "129.99",
         "Karachi",
         "259.98"
        ],
        [
         "5",
         "106.0",
         "Webcam",
         "1.0",
         "45.0",
         "Lahore",
         "45.0"
        ],
        [
         "6",
         "107.0",
         "Mouse",
         "2.0",
         "15.99",
         "Karachi",
         "31.98"
        ],
        [
         "7",
         "108.0",
         "USB-C Cable",
         "3.0",
         "10.99",
         "Lahore",
         "32.97"
        ]
       ],
       "shape": {
        "columns": 6,
        "rows": 5
       }
      },
      "text/html": [
       "<div>\n",
       "<style scoped>\n",
       "    .dataframe tbody tr th:only-of-type {\n",
       "        vertical-align: middle;\n",
       "    }\n",
       "\n",
       "    .dataframe tbody tr th {\n",
       "        vertical-align: top;\n",
       "    }\n",
       "\n",
       "    .dataframe thead th {\n",
       "        text-align: right;\n",
       "    }\n",
       "</style>\n",
       "<table border=\"1\" class=\"dataframe\">\n",
       "  <thead>\n",
       "    <tr style=\"text-align: right;\">\n",
       "      <th></th>\n",
       "      <th>order_id</th>\n",
       "      <th>product</th>\n",
       "      <th>quantity_ordered</th>\n",
       "      <th>price_each</th>\n",
       "      <th>city</th>\n",
       "      <th>total_price</th>\n",
       "    </tr>\n",
       "  </thead>\n",
       "  <tbody>\n",
       "    <tr>\n",
       "      <th>0</th>\n",
       "      <td>101.0</td>\n",
       "      <td>USB-C Cable</td>\n",
       "      <td>2.0</td>\n",
       "      <td>10.99</td>\n",
       "      <td>Lahore</td>\n",
       "      <td>21.98</td>\n",
       "    </tr>\n",
       "    <tr>\n",
       "      <th>4</th>\n",
       "      <td>105.0</td>\n",
       "      <td>Monitor</td>\n",
       "      <td>2.0</td>\n",
       "      <td>129.99</td>\n",
       "      <td>Karachi</td>\n",
       "      <td>259.98</td>\n",
       "    </tr>\n",
       "    <tr>\n",
       "      <th>5</th>\n",
       "      <td>106.0</td>\n",
       "      <td>Webcam</td>\n",
       "      <td>1.0</td>\n",
       "      <td>45.00</td>\n",
       "      <td>Lahore</td>\n",
       "      <td>45.00</td>\n",
       "    </tr>\n",
       "    <tr>\n",
       "      <th>6</th>\n",
       "      <td>107.0</td>\n",
       "      <td>Mouse</td>\n",
       "      <td>2.0</td>\n",
       "      <td>15.99</td>\n",
       "      <td>Karachi</td>\n",
       "      <td>31.98</td>\n",
       "    </tr>\n",
       "    <tr>\n",
       "      <th>7</th>\n",
       "      <td>108.0</td>\n",
       "      <td>USB-C Cable</td>\n",
       "      <td>3.0</td>\n",
       "      <td>10.99</td>\n",
       "      <td>Lahore</td>\n",
       "      <td>32.97</td>\n",
       "    </tr>\n",
       "  </tbody>\n",
       "</table>\n",
       "</div>"
      ],
      "text/plain": [
       "   order_id      product  quantity_ordered  price_each     city  total_price\n",
       "0     101.0  USB-C Cable               2.0       10.99   Lahore        21.98\n",
       "4     105.0      Monitor               2.0      129.99  Karachi       259.98\n",
       "5     106.0       Webcam               1.0       45.00   Lahore        45.00\n",
       "6     107.0        Mouse               2.0       15.99  Karachi        31.98\n",
       "7     108.0  USB-C Cable               3.0       10.99   Lahore        32.97"
      ]
     },
     "execution_count": 12,
     "metadata": {},
     "output_type": "execute_result"
    }
   ],
   "source": [
    "df['total_price'] = df['quantity_ordered'] * df['price_each']\n",
    "df.head()"
   ]
  },
  {
   "cell_type": "markdown",
   "id": "7242d6ff",
   "metadata": {},
   "source": [
    "## Step 8: 📊 Visualize Sales by Product\n",
    "\n",
    "Let’s use a bar chart to visualize total sales per product."
   ]
  },
  {
   "cell_type": "code",
   "execution_count": 30,
   "id": "ea06459f",
   "metadata": {},
   "outputs": [
    {
     "data": {
      "image/png": "[encoded data removed]",
      "text/plain": [
       "<Figure size 1000x500 with 1 Axes>"
      ]
     },
     "metadata": {},
     "output_type": "display_data"
    }
   ],
   "source": [
    "import matplotlib.pyplot as plt\n",
    "\n",
    "# Product-wise sales chart\n",
    "df.groupby('product')['total_price'].sum().sort_values().plot(kind='barh', figsize=(10,5), color='orange')\n",
    "plt.title(\"Total Sales by Product\")\n",
    "plt.xlabel(\"Sales in PKR\")\n",
    "plt.ylabel(\"Product\")\n",
    "plt.grid(True)\n",
    "plt.tight_layout()\n",
    "plt.show()"
   ]
  },
  {
   "cell_type": "markdown",
   "id": "4f0b8e5f",
   "metadata": {},
   "source": [
    "## Step 9: 🏙️ Visualize Sales by City\n",
    "\n",
    "Another chart to compare city-wise sales."
   ]
  },
  {
   "cell_type": "code",
   "execution_count": 32,
   "id": "5aa0c9f7",
   "metadata": {},
   "outputs": [
    {
     "data": {
      "image/png": "[encoded data removed]",
      "text/plain": [
       "<Figure size 800x400 with 1 Axes>"
      ]
     },
     "metadata": {},
     "output_type": "display_data"
    }
   ],
   "source": [
    "df.groupby('city')['total_price'].sum().sort_values().plot(kind='bar', figsize=(8,4), color='brown')\n",
    "plt.title(\"City-wise Sales\")\n",
    "plt.xlabel(\"City\")\n",
    "plt.ylabel(\"Total Sales (PKR)\")\n",
    "plt.xticks(rotation=45)\n",
    "plt.tight_layout()\n",
    "plt.show()\n"
   ]
  },
  {
   "cell_type": "markdown",
   "id": "0d8c7b7e",
   "metadata": {},
   "source": [
    "## Step 10: 💾 Save Cleaned Dataset\n",
    "\n",
    "Finally, export the cleaned DataFrame to a new CSV file for future use.\n"
   ]
  },
  {
   "cell_type": "code",
   "execution_count": 14,
   "id": "5150798a",
   "metadata": {},
   "outputs": [],
   "source": [
    "df.to_csv(\"cleaned_sales_data.csv\", index=False)"
   ]
  },
  {
   "cell_type": "markdown",
   "id": "cae138c7",
   "metadata": {},
   "source": [
    "## 🧾 Summary\n",
    "\n",
    "In this project, we:\n",
    "- Cleaned a messy dataset\n",
    "- Removed missing values\n",
    "- Created a new `total_price` column\n",
    "- Visualized key insights\n",
    "- Exported the cleaned dataset\n",
    "\n",
    "➡️ This project showcases real-world data wrangling skills using Pandas."
   ]
  },
  {
   "cell_type": "markdown",
   "id": "5881d0d0",
   "metadata": {},
   "source": []
  }
 ],
 "metadata": {
  "kernelspec": {
   "display_name": "Python 3",
   "language": "python",
   "name": "python3"
  },
  "language_info": {
   "codemirror_mode": {
    "name": "ipython",
    "version": 3
   },
   "file_extension": ".py",
   "mimetype": "text/x-python",
   "name": "python",
   "nbconvert_exporter": "python",
   "pygments_lexer": "ipython3",
   "version": "3.13.3"
  }
 },
 "nbformat": 4,
 "nbformat_minor": 5
}
